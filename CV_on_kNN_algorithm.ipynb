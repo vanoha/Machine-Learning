{
  "nbformat": 4,
  "nbformat_minor": 0,
  "metadata": {
    "colab": {
      "name": "CV on kNN algorithm.ipynb",
      "provenance": [],
      "authorship_tag": "ABX9TyMaCRQ3JHyXz+4ZgvZtUKhi",
      "include_colab_link": true
    },
    "kernelspec": {
      "name": "python3",
      "display_name": "Python 3"
    },
    "language_info": {
      "name": "python"
    }
  },
  "cells": [
    {
      "cell_type": "markdown",
      "metadata": {
        "id": "view-in-github",
        "colab_type": "text"
      },
      "source": [
        "<a href=\"https://colab.research.google.com/github/vanoha/Machine-Learning/blob/main/CV_on_kNN_algorithm.ipynb\" target=\"_parent\"><img src=\"https://colab.research.google.com/assets/colab-badge.svg\" alt=\"Open In Colab\"/></a>"
      ]
    },
    {
      "cell_type": "markdown",
      "metadata": {
        "id": "8o2BQhoI5PfK"
      },
      "source": [
        "# Task 1 "
      ]
    },
    {
      "cell_type": "code",
      "metadata": {
        "id": "wVsk4ic-nofz"
      },
      "source": [
        "from sklearn.neighbors import KNeighborsClassifier\n",
        "import pandas as pd\n",
        "from sklearn.model_selection import KFold\n",
        "from sklearn.metrics import accuracy_score\n",
        "from sklearn import preprocessing"
      ],
      "execution_count": null,
      "outputs": []
    },
    {
      "cell_type": "code",
      "metadata": {
        "id": "AkL7Xj5eo7Q-",
        "colab": {
          "base_uri": "https://localhost:8080/",
          "height": 337
        },
        "outputId": "09720b99-5037-4aef-e0eb-acf036c8249e"
      },
      "source": [
        "names = ['Class', 'Alcohol', 'Malic acid', 'Ash', 'Alcalinity of ash', 'Magnesium', 'Total phenols', 'Flavanoids', 'Nonflavanoids phenols', 'Proanthocyanins', 'Color intensity', 'Hue', 'OD280/OD315 of diluted wines', 'Proline']\n",
        "df = pd.read_csv(\"wine.data\", names=names)\n",
        "class_df = df['Class']\n",
        "attributes = df.drop(['Class'], axis=1)\n",
        "x = attributes\n",
        "y = class_df"
      ],
      "execution_count": null,
      "outputs": [
        {
          "output_type": "error",
          "ename": "KeyError",
          "evalue": "ignored",
          "traceback": [
            "\u001b[0;31m---------------------------------------------------------------------------\u001b[0m",
            "\u001b[0;31mKeyError\u001b[0m                                  Traceback (most recent call last)",
            "\u001b[0;32m<ipython-input-44-7b79fb1cd361>\u001b[0m in \u001b[0;36m<module>\u001b[0;34m()\u001b[0m\n\u001b[1;32m     11\u001b[0m \u001b[0;34m\u001b[0m\u001b[0m\n\u001b[1;32m     12\u001b[0m \u001b[0mind_names\u001b[0m \u001b[0;34m=\u001b[0m \u001b[0;34m[\u001b[0m\u001b[0;36m0\u001b[0m\u001b[0;34m,\u001b[0m \u001b[0;36m1\u001b[0m\u001b[0;34m,\u001b[0m \u001b[0;36m2\u001b[0m\u001b[0;34m,\u001b[0m \u001b[0;36m3\u001b[0m\u001b[0;34m,\u001b[0m \u001b[0;36m4\u001b[0m\u001b[0;34m,\u001b[0m \u001b[0;36m5\u001b[0m\u001b[0;34m,\u001b[0m \u001b[0;36m6\u001b[0m\u001b[0;34m]\u001b[0m\u001b[0;34m\u001b[0m\u001b[0;34m\u001b[0m\u001b[0m\n\u001b[0;32m---> 13\u001b[0;31m \u001b[0mx\u001b[0m\u001b[0;34m[\u001b[0m\u001b[0mdf\u001b[0m\u001b[0;34m.\u001b[0m\u001b[0mkeys\u001b[0m\u001b[0;34m(\u001b[0m\u001b[0;34m)\u001b[0m\u001b[0;34m[\u001b[0m\u001b[0mget_item\u001b[0m\u001b[0;34m(\u001b[0m\u001b[0mind_names\u001b[0m\u001b[0;34m)\u001b[0m\u001b[0;34m]\u001b[0m\u001b[0;34m]\u001b[0m\u001b[0;34m\u001b[0m\u001b[0;34m\u001b[0m\u001b[0m\n\u001b[0m",
            "\u001b[0;32m/usr/local/lib/python3.7/dist-packages/pandas/core/frame.py\u001b[0m in \u001b[0;36m__getitem__\u001b[0;34m(self, key)\u001b[0m\n\u001b[1;32m   2910\u001b[0m             \u001b[0;32mif\u001b[0m \u001b[0mis_iterator\u001b[0m\u001b[0;34m(\u001b[0m\u001b[0mkey\u001b[0m\u001b[0;34m)\u001b[0m\u001b[0;34m:\u001b[0m\u001b[0;34m\u001b[0m\u001b[0;34m\u001b[0m\u001b[0m\n\u001b[1;32m   2911\u001b[0m                 \u001b[0mkey\u001b[0m \u001b[0;34m=\u001b[0m \u001b[0mlist\u001b[0m\u001b[0;34m(\u001b[0m\u001b[0mkey\u001b[0m\u001b[0;34m)\u001b[0m\u001b[0;34m\u001b[0m\u001b[0;34m\u001b[0m\u001b[0m\n\u001b[0;32m-> 2912\u001b[0;31m             \u001b[0mindexer\u001b[0m \u001b[0;34m=\u001b[0m \u001b[0mself\u001b[0m\u001b[0;34m.\u001b[0m\u001b[0mloc\u001b[0m\u001b[0;34m.\u001b[0m\u001b[0m_get_listlike_indexer\u001b[0m\u001b[0;34m(\u001b[0m\u001b[0mkey\u001b[0m\u001b[0;34m,\u001b[0m \u001b[0maxis\u001b[0m\u001b[0;34m=\u001b[0m\u001b[0;36m1\u001b[0m\u001b[0;34m,\u001b[0m \u001b[0mraise_missing\u001b[0m\u001b[0;34m=\u001b[0m\u001b[0;32mTrue\u001b[0m\u001b[0;34m)\u001b[0m\u001b[0;34m[\u001b[0m\u001b[0;36m1\u001b[0m\u001b[0;34m]\u001b[0m\u001b[0;34m\u001b[0m\u001b[0;34m\u001b[0m\u001b[0m\n\u001b[0m\u001b[1;32m   2913\u001b[0m \u001b[0;34m\u001b[0m\u001b[0m\n\u001b[1;32m   2914\u001b[0m         \u001b[0;31m# take() does not accept boolean indexers\u001b[0m\u001b[0;34m\u001b[0m\u001b[0;34m\u001b[0m\u001b[0;34m\u001b[0m\u001b[0m\n",
            "\u001b[0;32m/usr/local/lib/python3.7/dist-packages/pandas/core/indexing.py\u001b[0m in \u001b[0;36m_get_listlike_indexer\u001b[0;34m(self, key, axis, raise_missing)\u001b[0m\n\u001b[1;32m   1252\u001b[0m             \u001b[0mkeyarr\u001b[0m\u001b[0;34m,\u001b[0m \u001b[0mindexer\u001b[0m\u001b[0;34m,\u001b[0m \u001b[0mnew_indexer\u001b[0m \u001b[0;34m=\u001b[0m \u001b[0max\u001b[0m\u001b[0;34m.\u001b[0m\u001b[0m_reindex_non_unique\u001b[0m\u001b[0;34m(\u001b[0m\u001b[0mkeyarr\u001b[0m\u001b[0;34m)\u001b[0m\u001b[0;34m\u001b[0m\u001b[0;34m\u001b[0m\u001b[0m\n\u001b[1;32m   1253\u001b[0m \u001b[0;34m\u001b[0m\u001b[0m\n\u001b[0;32m-> 1254\u001b[0;31m         \u001b[0mself\u001b[0m\u001b[0;34m.\u001b[0m\u001b[0m_validate_read_indexer\u001b[0m\u001b[0;34m(\u001b[0m\u001b[0mkeyarr\u001b[0m\u001b[0;34m,\u001b[0m \u001b[0mindexer\u001b[0m\u001b[0;34m,\u001b[0m \u001b[0maxis\u001b[0m\u001b[0;34m,\u001b[0m \u001b[0mraise_missing\u001b[0m\u001b[0;34m=\u001b[0m\u001b[0mraise_missing\u001b[0m\u001b[0;34m)\u001b[0m\u001b[0;34m\u001b[0m\u001b[0;34m\u001b[0m\u001b[0m\n\u001b[0m\u001b[1;32m   1255\u001b[0m         \u001b[0;32mreturn\u001b[0m \u001b[0mkeyarr\u001b[0m\u001b[0;34m,\u001b[0m \u001b[0mindexer\u001b[0m\u001b[0;34m\u001b[0m\u001b[0;34m\u001b[0m\u001b[0m\n\u001b[1;32m   1256\u001b[0m \u001b[0;34m\u001b[0m\u001b[0m\n",
            "\u001b[0;32m/usr/local/lib/python3.7/dist-packages/pandas/core/indexing.py\u001b[0m in \u001b[0;36m_validate_read_indexer\u001b[0;34m(self, key, indexer, axis, raise_missing)\u001b[0m\n\u001b[1;32m   1302\u001b[0m             \u001b[0;32mif\u001b[0m \u001b[0mraise_missing\u001b[0m\u001b[0;34m:\u001b[0m\u001b[0;34m\u001b[0m\u001b[0;34m\u001b[0m\u001b[0m\n\u001b[1;32m   1303\u001b[0m                 \u001b[0mnot_found\u001b[0m \u001b[0;34m=\u001b[0m \u001b[0mlist\u001b[0m\u001b[0;34m(\u001b[0m\u001b[0mset\u001b[0m\u001b[0;34m(\u001b[0m\u001b[0mkey\u001b[0m\u001b[0;34m)\u001b[0m \u001b[0;34m-\u001b[0m \u001b[0mset\u001b[0m\u001b[0;34m(\u001b[0m\u001b[0max\u001b[0m\u001b[0;34m)\u001b[0m\u001b[0;34m)\u001b[0m\u001b[0;34m\u001b[0m\u001b[0;34m\u001b[0m\u001b[0m\n\u001b[0;32m-> 1304\u001b[0;31m                 \u001b[0;32mraise\u001b[0m \u001b[0mKeyError\u001b[0m\u001b[0;34m(\u001b[0m\u001b[0;34mf\"{not_found} not in index\"\u001b[0m\u001b[0;34m)\u001b[0m\u001b[0;34m\u001b[0m\u001b[0;34m\u001b[0m\u001b[0m\n\u001b[0m\u001b[1;32m   1305\u001b[0m \u001b[0;34m\u001b[0m\u001b[0m\n\u001b[1;32m   1306\u001b[0m             \u001b[0;31m# we skip the warning on Categorical\u001b[0m\u001b[0;34m\u001b[0m\u001b[0;34m\u001b[0m\u001b[0;34m\u001b[0m\u001b[0m\n",
            "\u001b[0;31mKeyError\u001b[0m: \"['Class'] not in index\""
          ]
        }
      ]
    },
    {
      "cell_type": "code",
      "metadata": {
        "colab": {
          "base_uri": "https://localhost:8080/"
        },
        "id": "OrxWnu-6tWs9",
        "outputId": "d6f85ee3-f0b8-4abc-8e87-f62696903fb3"
      },
      "source": [
        "k = 1\n",
        "kf = KFold(n_splits=5, shuffle=True, random_state=42)\n",
        "acc_score = []\n",
        "k_score = []\n",
        "\n",
        "for k in range(1, 51):\n",
        "\n",
        "  for train_index, test_index in kf.split(x):\n",
        "\n",
        "    x_train, x_test = x.iloc[train_index, :], x.iloc[test_index, :]\n",
        "    y_train, y_test = y[train_index], y[test_index]\n",
        "\n",
        "    neigh = KNeighborsClassifier(n_neighbors=k)\n",
        "\n",
        "    neigh.fit(x_train, y_train)\n",
        "    pred_value = neigh.predict(x_test)\n",
        "    \n",
        "    acc = accuracy_score(pred_value, y_test)\n",
        "    acc_score.append(acc)\n",
        "    \n",
        "  acc_avarage = sum(acc_score) / 5\n",
        "  acc_score = []\n",
        "  k_score.append(acc_avarage)\n",
        "\n",
        "m = max(k_score)\n",
        "for i in range(len(k_score)):\n",
        "  if k_score[i] == m:\n",
        "    print(m, \" \", i + 1)"
      ],
      "execution_count": null,
      "outputs": [
        {
          "output_type": "stream",
          "name": "stdout",
          "text": [
            "0.7304761904761905   1\n"
          ]
        }
      ]
    },
    {
      "cell_type": "code",
      "metadata": {
        "colab": {
          "base_uri": "https://localhost:8080/"
        },
        "id": "4Ym2sdEIzr1j",
        "outputId": "3e9daf4f-b401-431d-e9d8-51ea3748b245"
      },
      "source": [
        "x = pd.DataFrame(preprocessing.scale(x))\n",
        "\n",
        "k = 1\n",
        "kf = KFold(n_splits=5, shuffle=True, random_state=42)\n",
        "acc_score = []\n",
        "k_score = []\n",
        "\n",
        "for k in range(1, 51):\n",
        "\n",
        "  for train_index, test_index in kf.split(x):\n",
        "\n",
        "    x_train, x_test = x.iloc[train_index, :], x.iloc[test_index, :]\n",
        "    y_train, y_test = y[train_index], y[test_index]\n",
        "\n",
        "    neigh = KNeighborsClassifier(n_neighbors=k)\n",
        "\n",
        "    neigh.fit(x_train, y_train)\n",
        "    pred_value = neigh.predict(x_test)\n",
        "    \n",
        "    acc = accuracy_score(pred_value, y_test)\n",
        "    acc_score.append(acc)\n",
        "    \n",
        "  acc_avarage = sum(acc_score) / 5\n",
        "  acc_score = []\n",
        "  k_score.append(acc_avarage)\n",
        "\n",
        "m = max(k_score)\n",
        "for i in range(len(k_score)):\n",
        "  if k_score[i] == m:\n",
        "    print(m, \" \", i + 1)"
      ],
      "execution_count": null,
      "outputs": [
        {
          "output_type": "stream",
          "name": "stdout",
          "text": [
            "0.9776190476190475   29\n"
          ]
        }
      ]
    },
    {
      "cell_type": "markdown",
      "metadata": {
        "id": "EhDAFg255Ykf"
      },
      "source": [
        "# Task 2"
      ]
    },
    {
      "cell_type": "code",
      "metadata": {
        "id": "R12H-XWE5cNV"
      },
      "source": [
        "from sklearn.neighbors import KNeighborsRegressor\n",
        "import pandas as pd\n",
        "from sklearn.model_selection import KFold\n",
        "from sklearn.metrics import accuracy_score\n",
        "from sklearn import preprocessing\n",
        "from sklearn import datasets\n",
        "from numpy import linspace\n",
        "from sklearn.model_selection import cross_val_score\n",
        "from sklearn.metrics import SCORERS"
      ],
      "execution_count": null,
      "outputs": []
    },
    {
      "cell_type": "code",
      "metadata": {
        "id": "nzTp0T3S5o9R"
      },
      "source": [
        "df = datasets.load_boston()\n",
        "attributes = df.data\n",
        "target = df.target"
      ],
      "execution_count": null,
      "outputs": []
    },
    {
      "cell_type": "code",
      "metadata": {
        "id": "nloSn3wW6Kaz"
      },
      "source": [
        "x = pd.DataFrame(preprocessing.scale(attributes))\n",
        "y = target\n",
        "\n",
        "p_array = linspace(1.0, 10.0, num=200)"
      ],
      "execution_count": null,
      "outputs": []
    },
    {
      "cell_type": "code",
      "metadata": {
        "colab": {
          "base_uri": "https://localhost:8080/"
        },
        "id": "CHbQfE26DUII",
        "outputId": "ebdf7d3f-58ee-4fd2-d831-1421d3e8b317"
      },
      "source": [
        "SCORERS.keys()"
      ],
      "execution_count": null,
      "outputs": [
        {
          "output_type": "execute_result",
          "data": {
            "text/plain": [
              "dict_keys(['explained_variance', 'r2', 'max_error', 'neg_median_absolute_error', 'neg_mean_absolute_error', 'neg_mean_squared_error', 'neg_mean_squared_log_error', 'neg_root_mean_squared_error', 'neg_mean_poisson_deviance', 'neg_mean_gamma_deviance', 'accuracy', 'roc_auc', 'roc_auc_ovr', 'roc_auc_ovo', 'roc_auc_ovr_weighted', 'roc_auc_ovo_weighted', 'balanced_accuracy', 'average_precision', 'neg_log_loss', 'neg_brier_score', 'adjusted_rand_score', 'homogeneity_score', 'completeness_score', 'v_measure_score', 'mutual_info_score', 'adjusted_mutual_info_score', 'normalized_mutual_info_score', 'fowlkes_mallows_score', 'precision', 'precision_macro', 'precision_micro', 'precision_samples', 'precision_weighted', 'recall', 'recall_macro', 'recall_micro', 'recall_samples', 'recall_weighted', 'f1', 'f1_macro', 'f1_micro', 'f1_samples', 'f1_weighted', 'jaccard', 'jaccard_macro', 'jaccard_micro', 'jaccard_samples', 'jaccard_weighted'])"
            ]
          },
          "metadata": {},
          "execution_count": 21
        }
      ]
    },
    {
      "cell_type": "code",
      "metadata": {
        "colab": {
          "base_uri": "https://localhost:8080/"
        },
        "id": "VHokGX7u7OcJ",
        "outputId": "a5629458-43ed-427a-d4d5-369e02b278e4"
      },
      "source": [
        "kf = KFold(n_splits=5, shuffle=True, random_state=42)\n",
        "p_score = []\n",
        "\n",
        "for p_value in p_array:\n",
        "\n",
        "  neigh = KNeighborsRegressor(n_neighbors=5, weights='distance', metric='minkowski', p=p_value)\n",
        "  acc_array = cross_val_score(neigh, x, y, cv=kf, scoring='neg_mean_squared_error')\n",
        "    \n",
        "  acc_avarage = sum(acc_array) / 5\n",
        "  p_score.append(acc_avarage)\n",
        "\n",
        "p_score\n",
        "m = max(p_score)\n",
        "for i in range(len(p_score)):\n",
        "  if p_score[i] == m:\n",
        "    print(m, \" \", i + 1)"
      ],
      "execution_count": null,
      "outputs": [
        {
          "output_type": "execute_result",
          "data": {
            "text/plain": [
              "[-27.76759335308547,\n",
              " -27.595617418001495,\n",
              " -27.816755471415796,\n",
              " -27.225733237870315,\n",
              " -27.231844778427018,\n",
              " -27.460610981581674,\n",
              " -27.769810133178265,\n",
              " -27.577590681707733,\n",
              " -26.939537391291346,\n",
              " -27.225458495014113,\n",
              " -27.402232742541553,\n",
              " -27.42908747719712,\n",
              " -27.403441858557688,\n",
              " -27.465386912152315,\n",
              " -27.824509163444183,\n",
              " -27.69615240381616,\n",
              " -27.846677457928628,\n",
              " -28.14279975138204,\n",
              " -27.736748169836893,\n",
              " -27.859034155320312,\n",
              " -28.22012185901402,\n",
              " -28.428295385159128,\n",
              " -28.76700271547051,\n",
              " -28.91945314784287,\n",
              " -29.983210522032824,\n",
              " -30.074189051517966,\n",
              " -29.85258461454585,\n",
              " -30.092489044539054,\n",
              " -30.240749325629615,\n",
              " -30.114680330381567,\n",
              " -30.57778783392978,\n",
              " -31.22554194005995,\n",
              " -31.55773766633983,\n",
              " -31.66158739176091,\n",
              " -31.317807047987525,\n",
              " -31.589695887954104,\n",
              " -32.08047889580263,\n",
              " -32.322668855502975,\n",
              " -32.57506257159786,\n",
              " -33.248075872786394,\n",
              " -33.352023247974635,\n",
              " -33.321805425157066,\n",
              " -33.564246876824434,\n",
              " -33.83600108126221,\n",
              " -33.86778754074305,\n",
              " -34.29012868549916,\n",
              " -34.584454124452314,\n",
              " -34.42810217522174,\n",
              " -34.874872920879554,\n",
              " -34.68384079238603,\n",
              " -34.68180106228041,\n",
              " -34.58194051958202,\n",
              " -34.90256451324198,\n",
              " -35.157274678101075,\n",
              " -35.750661513397176,\n",
              " -35.855560883134835,\n",
              " -35.679534066024964,\n",
              " -35.77211577001923,\n",
              " -35.746723995371454,\n",
              " -35.776567177173355,\n",
              " -36.16129654801462,\n",
              " -36.20124392156312,\n",
              " -36.145202575497436,\n",
              " -36.15471831755085,\n",
              " -36.1685797470578,\n",
              " -35.93505835458559,\n",
              " -35.93116138384638,\n",
              " -35.92763118278157,\n",
              " -35.902595696840756,\n",
              " -35.973628906606805,\n",
              " -36.0120960561814,\n",
              " -35.9222731773353,\n",
              " -36.501737889640175,\n",
              " -36.50105785842134,\n",
              " -36.53618968174823,\n",
              " -36.57899917045985,\n",
              " -36.605003878351184,\n",
              " -36.58809458952675,\n",
              " -36.65399776152217,\n",
              " -36.735221800802165,\n",
              " -37.023037573812154,\n",
              " -37.03556268504856,\n",
              " -37.03898254604334,\n",
              " -37.323383388481396,\n",
              " -37.310539727196435,\n",
              " -37.43683330816546,\n",
              " -37.449329764987326,\n",
              " -37.456593547217224,\n",
              " -37.52341501254213,\n",
              " -37.624863398277455,\n",
              " -37.669024032881694,\n",
              " -37.68474660971701,\n",
              " -37.624130584346354,\n",
              " -37.61824242930128,\n",
              " -37.765478306957604,\n",
              " -37.97855899615574,\n",
              " -37.97268156341284,\n",
              " -37.97409499535748,\n",
              " -37.98219082861828,\n",
              " -38.028799213585806,\n",
              " -38.220384385503024,\n",
              " -38.39563402222471,\n",
              " -38.480750318412674,\n",
              " -38.44420367796228,\n",
              " -38.4352088713971,\n",
              " -38.4506267098943,\n",
              " -38.48288401831864,\n",
              " -38.554497837317896,\n",
              " -38.55797459263833,\n",
              " -38.54827491049717,\n",
              " -38.435596209414776,\n",
              " -38.660036173712164,\n",
              " -38.65885330538099,\n",
              " -38.66259301139128,\n",
              " -38.70961208292896,\n",
              " -38.824502333301595,\n",
              " -39.05114047917921,\n",
              " -39.028369437461905,\n",
              " -39.035171314226446,\n",
              " -39.067699347985965,\n",
              " -39.08847614422732,\n",
              " -39.09820865023677,\n",
              " -39.09512459199259,\n",
              " -39.09473612575552,\n",
              " -39.087179575366115,\n",
              " -39.15662405780143,\n",
              " -39.15098631160282,\n",
              " -38.963898707018416,\n",
              " -38.98723765717144,\n",
              " -39.02098094305777,\n",
              " -39.02884397469678,\n",
              " -39.02432233326548,\n",
              " -39.01488149935591,\n",
              " -38.97584974269296,\n",
              " -39.01955504674944,\n",
              " -39.00107087997264,\n",
              " -39.042513655571035,\n",
              " -39.10285766513747,\n",
              " -39.06646500802766,\n",
              " -39.072096210925615,\n",
              " -39.08104104878611,\n",
              " -39.09101881593542,\n",
              " -39.0721948063063,\n",
              " -39.158952862215465,\n",
              " -39.167133855724785,\n",
              " -39.16816016698183,\n",
              " -39.17636434565134,\n",
              " -39.23000266433027,\n",
              " -39.27299982992842,\n",
              " -39.26947011558681,\n",
              " -39.43909994950957,\n",
              " -39.051311888691906,\n",
              " -39.03171753890716,\n",
              " -39.051951785459266,\n",
              " -39.016835822882264,\n",
              " -39.055902657643855,\n",
              " -39.04827724705215,\n",
              " -39.09962064693026,\n",
              " -39.09480004145354,\n",
              " -39.095667636598506,\n",
              " -38.86501490359835,\n",
              " -38.971891912222695,\n",
              " -38.97074976797387,\n",
              " -38.97159667099362,\n",
              " -38.865636146598696,\n",
              " -38.87875565964088,\n",
              " -38.87956895851907,\n",
              " -38.813666744732735,\n",
              " -38.98951710225341,\n",
              " -38.990281750542614,\n",
              " -38.9910368291775,\n",
              " -38.9917824936781,\n",
              " -39.006947762508545,\n",
              " -38.996879435537565,\n",
              " -38.99761360372433,\n",
              " -39.00484644522878,\n",
              " -39.00556288546142,\n",
              " -39.01107067025593,\n",
              " -39.010628903778176,\n",
              " -39.012774505923765,\n",
              " -39.216639489058394,\n",
              " -39.19447343553353,\n",
              " -39.19290681036472,\n",
              " -39.193610990452314,\n",
              " -39.188921808142815,\n",
              " -39.197515733329496,\n",
              " -39.37782866610783,\n",
              " -39.38559405462103,\n",
              " -39.36431800066097,\n",
              " -39.32084414991219,\n",
              " -39.28783174810865,\n",
              " -39.332424993029434,\n",
              " -39.259018755937646,\n",
              " -39.259660205527595,\n",
              " -39.26029438944554,\n",
              " -39.24529579891343,\n",
              " -39.27225582112398,\n",
              " -39.272873625573986,\n",
              " -39.277107878443324,\n",
              " -39.277713528534285]"
            ]
          },
          "metadata": {},
          "execution_count": 29
        }
      ]
    }
  ]
}