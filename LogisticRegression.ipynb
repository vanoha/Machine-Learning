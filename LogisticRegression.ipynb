{
  "nbformat": 4,
  "nbformat_minor": 0,
  "metadata": {
    "colab": {
      "provenance": [],
      "authorship_tag": "ABX9TyPA2S+G6hhqCd2wbDhgzj5z",
      "include_colab_link": true
    },
    "kernelspec": {
      "name": "python3",
      "display_name": "Python 3"
    },
    "language_info": {
      "name": "python"
    }
  },
  "cells": [
    {
      "cell_type": "markdown",
      "metadata": {
        "id": "view-in-github",
        "colab_type": "text"
      },
      "source": [
        "<a href=\"https://colab.research.google.com/github/vanoha/Machine-Learning/blob/main/LogisticRegression.ipynb\" target=\"_parent\"><img src=\"https://colab.research.google.com/assets/colab-badge.svg\" alt=\"Open In Colab\"/></a>"
      ]
    },
    {
      "cell_type": "code",
      "source": [
        "# !wget https://raw.githubusercontent.com/girafe-ai/ml-course/master/week0_03_linear_classification/notmnist.py"
      ],
      "metadata": {
        "id": "RraP6kWEtR9A"
      },
      "execution_count": null,
      "outputs": []
    },
    {
      "cell_type": "code",
      "execution_count": null,
      "metadata": {
        "id": "-wo1mY8303Lk"
      },
      "outputs": [],
      "source": [
        "import numpy as np\n",
        "import torch"
      ]
    },
    {
      "cell_type": "code",
      "source": [
        "import matplotlib.pyplot as plt"
      ],
      "metadata": {
        "id": "Tvuyfso5BkMC"
      },
      "execution_count": null,
      "outputs": []
    },
    {
      "cell_type": "code",
      "source": [
        "x = np.arange(16).reshape(4,4)\n",
        "\n",
        "print(x)\n",
        "print((x.shape,))\n",
        "print(x + 5)\n",
        "print(np.dot(x, x.T))\n",
        "print(x.mean())"
      ],
      "metadata": {
        "colab": {
          "base_uri": "https://localhost:8080/"
        },
        "id": "XiJsVEZZBptH",
        "outputId": "e6c35ed9-2477-4cb2-e19f-f84d2855758e"
      },
      "execution_count": null,
      "outputs": [
        {
          "output_type": "stream",
          "name": "stdout",
          "text": [
            "[[ 0  1  2  3]\n",
            " [ 4  5  6  7]\n",
            " [ 8  9 10 11]\n",
            " [12 13 14 15]]\n",
            "((4, 4),)\n",
            "[[ 5  6  7  8]\n",
            " [ 9 10 11 12]\n",
            " [13 14 15 16]\n",
            " [17 18 19 20]]\n",
            "[[ 14  38  62  86]\n",
            " [ 38 126 214 302]\n",
            " [ 62 214 366 518]\n",
            " [ 86 302 518 734]]\n",
            "7.5\n"
          ]
        }
      ]
    },
    {
      "cell_type": "code",
      "source": [
        "torch.transpose?"
      ],
      "metadata": {
        "id": "4HD9W-ccD44M"
      },
      "execution_count": null,
      "outputs": []
    },
    {
      "cell_type": "code",
      "source": [
        "x = np.arange(16).reshape(4,4)\n",
        "\n",
        "x = torch.tensor(x, dtype=torch.float32)\n",
        "\n",
        "print(x)\n",
        "print(x.shape)\n",
        "print(x + 5)\n",
        "print(x.transpose(1,0))\n",
        "print(torch.matmul(x, x.transpose(1, 0)))\n",
        "print(torch.mean(x, dim=-1))\n",
        "print(torch.cumsum(x, dim=0))"
      ],
      "metadata": {
        "colab": {
          "base_uri": "https://localhost:8080/"
        },
        "id": "KOrmr3N6DmjO",
        "outputId": "6ecce9f8-394a-4bf3-e8c8-6dc70050fc46"
      },
      "execution_count": null,
      "outputs": [
        {
          "output_type": "stream",
          "name": "stdout",
          "text": [
            "tensor([[ 0.,  1.,  2.,  3.],\n",
            "        [ 4.,  5.,  6.,  7.],\n",
            "        [ 8.,  9., 10., 11.],\n",
            "        [12., 13., 14., 15.]])\n",
            "torch.Size([4, 4])\n",
            "tensor([[ 5.,  6.,  7.,  8.],\n",
            "        [ 9., 10., 11., 12.],\n",
            "        [13., 14., 15., 16.],\n",
            "        [17., 18., 19., 20.]])\n",
            "tensor([[ 0.,  4.,  8., 12.],\n",
            "        [ 1.,  5.,  9., 13.],\n",
            "        [ 2.,  6., 10., 14.],\n",
            "        [ 3.,  7., 11., 15.]])\n",
            "tensor([[ 14.,  38.,  62.,  86.],\n",
            "        [ 38., 126., 214., 302.],\n",
            "        [ 62., 214., 366., 518.],\n",
            "        [ 86., 302., 518., 734.]])\n",
            "tensor([ 1.5000,  5.5000,  9.5000, 13.5000])\n",
            "tensor([[ 0.,  1.,  2.,  3.],\n",
            "        [ 4.,  6.,  8., 10.],\n",
            "        [12., 15., 18., 21.],\n",
            "        [24., 28., 32., 36.]])\n"
          ]
        }
      ]
    },
    {
      "cell_type": "code",
      "source": [
        "t = torch.linspace(-10, 10, steps = 10000)\n",
        "\n",
        "x = t - 1.5 * torch.cos(15 * t)\n",
        "y = t - 1.5 * torch.sin(16 * t)\n",
        "\n",
        "plt.plot(x.numpy(), y.numpy())"
      ],
      "metadata": {
        "colab": {
          "base_uri": "https://localhost:8080/",
          "height": 282
        },
        "id": "R8_ocSoxEb4Y",
        "outputId": "3c6859a1-67e9-4113-8f20-813e21258135"
      },
      "execution_count": null,
      "outputs": [
        {
          "output_type": "execute_result",
          "data": {
            "text/plain": [
              "[<matplotlib.lines.Line2D at 0x7f15b34f6250>]"
            ]
          },
          "metadata": {},
          "execution_count": 77
        },
        {
          "output_type": "display_data",
          "data": {
            "text/plain": [
              "<Figure size 432x288 with 1 Axes>"
            ],
            "image/png": "[encoded data removed]"
          },
          "metadata": {
            "needs_background": "light"
          }
        }
      ]
    },
    {
      "cell_type": "code",
      "source": [
        "from sklearn.datasets import load_boston\n",
        "boston = load_boston()\n",
        "plt.scatter(boston.data[:, -1], boston.target)"
      ],
      "metadata": {
        "colab": {
          "base_uri": "https://localhost:8080/",
          "height": 927
        },
        "id": "-39gMZK9Fctn",
        "outputId": "1d89ed85-87ff-45f2-ddc5-bb8115bae47a"
      },
      "execution_count": null,
      "outputs": [
        {
          "output_type": "stream",
          "name": "stderr",
          "text": [
            "/usr/local/lib/python3.7/dist-packages/sklearn/utils/deprecation.py:87: FutureWarning: Function load_boston is deprecated; `load_boston` is deprecated in 1.0 and will be removed in 1.2.\n",
            "\n",
            "    The Boston housing prices dataset has an ethical problem. You can refer to\n",
            "    the documentation of this function for further details.\n",
            "\n",
            "    The scikit-learn maintainers therefore strongly discourage the use of this\n",
            "    dataset unless the purpose of the code is to study and educate about\n",
            "    ethical issues in data science and machine learning.\n",
            "\n",
            "    In this special case, you can fetch the dataset from the original\n",
            "    source::\n",
            "\n",
            "        import pandas as pd\n",
            "        import numpy as np\n",
            "\n",
            "\n",
            "        data_url = \"http://lib.stat.cmu.edu/datasets/boston\"\n",
            "        raw_df = pd.read_csv(data_url, sep=\"\\s+\", skiprows=22, header=None)\n",
            "        data = np.hstack([raw_df.values[::2, :], raw_df.values[1::2, :2]])\n",
            "        target = raw_df.values[1::2, 2]\n",
            "\n",
            "    Alternative datasets include the California housing dataset (i.e.\n",
            "    :func:`~sklearn.datasets.fetch_california_housing`) and the Ames housing\n",
            "    dataset. You can load the datasets as follows::\n",
            "\n",
            "        from sklearn.datasets import fetch_california_housing\n",
            "        housing = fetch_california_housing()\n",
            "\n",
            "    for the California housing dataset and::\n",
            "\n",
            "        from sklearn.datasets import fetch_openml\n",
            "        housing = fetch_openml(name=\"house_prices\", as_frame=True)\n",
            "\n",
            "    for the Ames housing dataset.\n",
            "    \n",
            "  warnings.warn(msg, category=FutureWarning)\n"
          ]
        },
        {
          "output_type": "execute_result",
          "data": {
            "text/plain": [
              "<matplotlib.collections.PathCollection at 0x7f15b2f09cd0>"
            ]
          },
          "metadata": {},
          "execution_count": 78
        },
        {
          "output_type": "display_data",
          "data": {
            "text/plain": [
              "<Figure size 432x288 with 1 Axes>"
            ],
            "image/png": "[encoded data removed]"
          },
          "metadata": {
            "needs_background": "light"
          }
        }
      ]
    },
    {
      "cell_type": "code",
      "source": [
        "w = torch.zeros(1, requires_grad=True)\n",
        "b = torch.zeros(1, requires_grad=True)\n",
        "\n",
        "x = torch.tensor(boston.data[:, -1] / 10, dtype=torch.float32)\n",
        "y = torch.tensor(boston.target, dtype=torch.float32)"
      ],
      "metadata": {
        "id": "cZeBpPFlFy3z"
      },
      "execution_count": null,
      "outputs": []
    },
    {
      "cell_type": "code",
      "source": [
        "y_pred = w * x + b\n",
        "loss = torch.mean( (y_pred - y)**2 )\n",
        "\n",
        "loss.backward()"
      ],
      "metadata": {
        "id": "SjUsFdvxGcKO"
      },
      "execution_count": null,
      "outputs": []
    },
    {
      "cell_type": "code",
      "source": [
        "print(w.grad)\n",
        "print(b.grad)"
      ],
      "metadata": {
        "colab": {
          "base_uri": "https://localhost:8080/"
        },
        "id": "DO_4tGaNGoGm",
        "outputId": "ba11b53a-9819-4f47-fc55-4f7d5fdeab9b"
      },
      "execution_count": null,
      "outputs": [
        {
          "output_type": "stream",
          "name": "stdout",
          "text": [
            "tensor([-47.3514])\n",
            "tensor([-45.0656])\n"
          ]
        }
      ]
    },
    {
      "cell_type": "code",
      "source": [
        "from IPython.display import clear_output\n",
        "\n",
        "w = torch.zeros(1, requires_grad=True)\n",
        "b = torch.zeros(1, requires_grad=True)\n",
        "\n",
        "x = torch.tensor(boston.data[:, -1] / 10, dtype=torch.float32)\n",
        "y = torch.tensor(boston.target, dtype=torch.float32)\n",
        "\n",
        "for i in range(100):\n",
        "\n",
        "  y_pred = w * x + b\n",
        "  loss = torch.mean( (y_pred - y)**2 )\n",
        "  loss.backward() # вычисляем градиент лосса\n",
        "\n",
        "  w.data -= 0.05 * w.grad.data\n",
        "  b.data -= 0.05 * b.grad.data\n",
        "\n",
        "  # обнуляем градиенты, так как на этом шаге мы уже обновили веса и эти градиенты больше не нужны\n",
        "  w.grad.data.zero_()\n",
        "  b.grad.data.zero_()\n",
        "\n",
        "  if (i + 1) % 5 == 0:\n",
        "    clear_output(True)\n",
        "    plt.scatter(x.data.numpy(), y.data.numpy())\n",
        "    plt.scatter(x.data.numpy(), y_pred.data.numpy(), color='orange', linewidth=5)\n",
        "    plt.show()\n",
        "\n",
        "    print('loss = ', loss.data.numpy())\n",
        "    if loss.data.numpy() < 0.5:\n",
        "      print(\"Done!\")\n",
        "      break;x"
      ],
      "metadata": {
        "colab": {
          "base_uri": "https://localhost:8080/",
          "height": 282
        },
        "id": "vKi6-BmUGyZO",
        "outputId": "03e843a7-3027-4964-a6be-ede4b49ec982"
      },
      "execution_count": null,
      "outputs": [
        {
          "output_type": "display_data",
          "data": {
            "text/plain": [
              "<Figure size 432x288 with 1 Axes>"
            ],
            "image/png": "[encoded data removed]"
          },
          "metadata": {
            "needs_background": "light"
          }
        },
        {
          "output_type": "stream",
          "name": "stdout",
          "text": [
            "loss =  44.815567\n"
          ]
        }
      ]
    },
    {
      "cell_type": "code",
      "source": [
        "x = torch.tensor(boston.data[:, -1], dtype=torch.float32)\n",
        "\n",
        "w = torch.zeros(1, requires_grad=True)\n",
        "b = torch.zeros(1, requires_grad=True)\n",
        "\n",
        "grad_history = []\n",
        "\n",
        "for i in range(100):\n",
        "\n",
        "  y_pred = w * x + b\n",
        "  loss = torch.mean( (y_pred - y) ** 2 )\n",
        "  loss.backward()\n",
        "  grad_history.append( (w.grad.item(), b.grad.item()) )\n",
        "\n",
        "  w.data -= 0.05 * w.grad.data\n",
        "  b.data -= 0.05 * b.grad.data\n",
        "\n",
        "  w.grad.data.zero_()\n",
        "  b.grad.data.zero_()\n",
        "\n",
        "  if (i + 1) % 5 == 0:\n",
        "    clear_output(True)\n",
        "    plt.scatter(x.data.numpy(), y.data.numpy())\n",
        "    plt.scatter(x.data.numpy(), y_pred.data.numpy(), color='orange', linewidth=5)\n",
        "    plt.show()\n",
        "\n",
        "    print(\"loss = \", loss.data.numpy())\n",
        "    if loss.data.numpy() < 0.5:\n",
        "        print(\"Done!\")\n",
        "        break"
      ],
      "metadata": {
        "colab": {
          "base_uri": "https://localhost:8080/",
          "height": 282
        },
        "id": "yVO07AmxIbEF",
        "outputId": "4c361bf5-2985-4c94-8647-27a53fa677ff"
      },
      "execution_count": null,
      "outputs": [
        {
          "output_type": "display_data",
          "data": {
            "text/plain": [
              "<Figure size 432x288 with 1 Axes>"
            ],
            "image/png": "[encoded data removed]"
          },
          "metadata": {
            "needs_background": "light"
          }
        },
        {
          "output_type": "stream",
          "name": "stdout",
          "text": [
            "loss =  nan\n"
          ]
        }
      ]
    },
    {
      "cell_type": "code",
      "source": [
        "plt.plot([element[0] for element in grad_history], )"
      ],
      "metadata": {
        "colab": {
          "base_uri": "https://localhost:8080/",
          "height": 293
        },
        "id": "XzZNGOoQJo3K",
        "outputId": "ed006d79-2a3d-4cea-d8ae-eb7ba6f32f35"
      },
      "execution_count": null,
      "outputs": [
        {
          "output_type": "execute_result",
          "data": {
            "text/plain": [
              "[<matplotlib.lines.Line2D at 0x7f15b299d0d0>]"
            ]
          },
          "metadata": {},
          "execution_count": 84
        },
        {
          "output_type": "display_data",
          "data": {
            "text/plain": [
              "<Figure size 432x288 with 1 Axes>"
            ],
            "image/png": "[encoded data removed]"
          },
          "metadata": {
            "needs_background": "light"
          }
        }
      ]
    },
    {
      "cell_type": "markdown",
      "source": [
        "Как мы видим, градиент взорвался. Допускать такого мы не должны. Избежать такого можно путем уменьшения *learning rate* или использованием *gradient clipping*"
      ],
      "metadata": {
        "id": "Kgj_LtumJ_RS"
      }
    },
    {
      "cell_type": "markdown",
      "source": [
        "# High-level torch"
      ],
      "metadata": {
        "id": "mo5NYiPLKcmA"
      }
    },
    {
      "cell_type": "markdown",
      "source": [
        "Если раньше мы многое делали вручную: градиентные шаги, высчитывание loss функции и т.д. То сейчас научимся использовать pytorch для этих целей."
      ],
      "metadata": {
        "id": "To2lJaOpKmLx"
      }
    },
    {
      "cell_type": "code",
      "source": [
        "from notmnist import load_notmnist\n",
        "X_train, y_train, X_test, y_test = load_notmnist(letters='AE')\n",
        "X_train, X_test = X_train.reshape([-1, 784]), X_test.reshape([-1, 784])\n",
        "\n",
        "print(len(X_train), len(X_test))"
      ],
      "metadata": {
        "colab": {
          "base_uri": "https://localhost:8080/"
        },
        "id": "rtprg1oVJ7ey",
        "outputId": "8c811b82-545a-4b6e-8595-25d1b2549ae8"
      },
      "execution_count": null,
      "outputs": [
        {
          "output_type": "stream",
          "name": "stdout",
          "text": [
            "Parsing...\n",
            "found broken img: ./notMNIST_small/A/RGVtb2NyYXRpY2FCb2xkT2xkc3R5bGUgQm9sZC50dGY=.png [it's ok if <10 images are broken]\n",
            "Done\n",
            "2808 937\n"
          ]
        }
      ]
    },
    {
      "cell_type": "code",
      "source": [
        "X_train.shape"
      ],
      "metadata": {
        "colab": {
          "base_uri": "https://localhost:8080/"
        },
        "id": "QjTQ_pSiMLjW",
        "outputId": "a28fd690-86fa-4a30-abff-0c438dd91ca4"
      },
      "execution_count": null,
      "outputs": [
        {
          "output_type": "execute_result",
          "data": {
            "text/plain": [
              "(2808, 784)"
            ]
          },
          "metadata": {},
          "execution_count": 86
        }
      ]
    },
    {
      "cell_type": "code",
      "source": [
        "for i in [0,1]:\n",
        "    plt.subplot(1, 2, i + 1)\n",
        "    plt.imshow(X_train[i].reshape([28,28]))\n",
        "    plt.title(str(y_train[i]))"
      ],
      "metadata": {
        "colab": {
          "base_uri": "https://localhost:8080/",
          "height": 216
        },
        "id": "2w4ypkEML4QC",
        "outputId": "eeea8451-903d-4deb-a54c-221f52000bfc"
      },
      "execution_count": null,
      "outputs": [
        {
          "output_type": "display_data",
          "data": {
            "text/plain": [
              "<Figure size 432x288 with 2 Axes>"
            ],
            "image/png": "[encoded data removed]"
          },
          "metadata": {
            "needs_background": "light"
          }
        }
      ]
    },
    {
      "cell_type": "markdown",
      "source": [
        "Теперь поработаем с аналогом pipline из sklearn. Называется он **torch.nn.Module**"
      ],
      "metadata": {
        "id": "8LSX9fh4MUYE"
      }
    },
    {
      "cell_type": "code",
      "source": [
        "from torch import nn\n",
        "import torch.nn.functional as F"
      ],
      "metadata": {
        "id": "0iNGfuk6MESK"
      },
      "execution_count": null,
      "outputs": []
    },
    {
      "cell_type": "markdown",
      "source": [
        "У нас проблема бинарной классификации (2 буквы только), поэтому построим __Logistic Regression with sigmoid__.\n",
        "$$P(y_i | X_i) = \\sigma(W \\cdot X_i + b) ={ 1 \\over {1+e^{- [W \\cdot X_i + b]}} }$$"
      ],
      "metadata": {
        "id": "8CoV--mJMyVI"
      }
    },
    {
      "cell_type": "code",
      "source": [
        "# создаем сеть, в которую будем складывать слои, которые потом будут\n",
        "# выполняться по очереди\n",
        "model = nn.Sequential()\n",
        "\n",
        "# добавим первый слой с 784 input units и 1 output unit\n",
        "model.add_module('l1', nn.Linear(784, 1))\n",
        "\n",
        "# добавим softmax activation for probabilities.\n",
        "# слои должны иметь УНИКАЛЬНОЕ имя\n",
        "model.add_module('l2', nn.Sigmoid())"
      ],
      "metadata": {
        "id": "C1yqAqcfMrtX"
      },
      "execution_count": null,
      "outputs": []
    },
    {
      "cell_type": "code",
      "source": [
        "# выводим размеры параметров из нашей model\n",
        "print([w.shape for w in model.parameters()])"
      ],
      "metadata": {
        "colab": {
          "base_uri": "https://localhost:8080/"
        },
        "id": "oTOEnyYTNy_r",
        "outputId": "34ba5aed-ee7a-457c-a459-873accd7152a"
      },
      "execution_count": null,
      "outputs": [
        {
          "output_type": "stream",
          "name": "stdout",
          "text": [
            "[torch.Size([1, 784]), torch.Size([1])]\n"
          ]
        }
      ]
    },
    {
      "cell_type": "code",
      "source": [
        "# создадим примерочные данные с 3 примерами и 784 features\n",
        "x = torch.tensor(X_train[:3], dtype=torch.float32)\n",
        "y = torch.tensor(y_train[:3], dtype=torch.float32)\n",
        "\n",
        "y_predict = model(x)[:, 0]\n",
        "\n",
        "# получим вероятностей отнесения к классам\n",
        "y_predict"
      ],
      "metadata": {
        "colab": {
          "base_uri": "https://localhost:8080/"
        },
        "id": "7-qgTOhlN9Oo",
        "outputId": "811368eb-cd70-49ef-a324-2726906e5d8e"
      },
      "execution_count": null,
      "outputs": [
        {
          "output_type": "execute_result",
          "data": {
            "text/plain": [
              "tensor([0.4537, 0.5352, 0.5583], grad_fn=<SelectBackward0>)"
            ]
          },
          "metadata": {},
          "execution_count": 91
        }
      ]
    },
    {
      "cell_type": "markdown",
      "source": [
        "Теперь определим функцию потерь binary cross entropy (обычно ее берут для бинарной классификации). Она представлена в общей форме\n",
        "$$ L = {1 \\over N} \\underset{X_i,y_i} \\sum - [  y_i \\cdot log P(y_i | X_i) + (1-y_i) \\cdot log (1-P(y_i | X_i)) ]$$"
      ],
      "metadata": {
        "id": "5xTtcEO8lgRO"
      }
    },
    {
      "cell_type": "code",
      "source": [
        "# с помощью F из pytorch мы объявим функции binary_cross_entropy, чтобы \n",
        "# не писать это все вручную\n",
        "print(y_predict.shape, y.shape)\n",
        "crossentropy = F.binary_cross_entropy(y_predict, y, reduction='none')\n",
        "\n",
        "loss = torch.mean(crossentropy, dim=0, keepdims=True)\n",
        "assert loss.data.numpy()[0] <= np.log(5), \"Loss is too large even for untrained model. Please double-check it.\""
      ],
      "metadata": {
        "colab": {
          "base_uri": "https://localhost:8080/"
        },
        "id": "LBwELBmzlehK",
        "outputId": "c3dbc51f-91be-4d10-c0ea-6a7382e3ce9e"
      },
      "execution_count": null,
      "outputs": [
        {
          "output_type": "stream",
          "name": "stdout",
          "text": [
            "torch.Size([3]) torch.Size([3])\n"
          ]
        }
      ]
    },
    {
      "cell_type": "markdown",
      "source": [
        "Когда мы обучали линейную регрессию выше, нам пришлось вручную .zero_() градиенты для обеих переменных. Представьте себе этот код для 50-слойной сети.\n",
        "\n",
        "Для этого в pytorch есть модуль `torch.optim`"
      ],
      "metadata": {
        "id": "eeid_N2xoOJP"
      }
    },
    {
      "cell_type": "code",
      "source": [
        "# объявляем оптимизатор\n",
        "opt = torch.optim.SGD(model.parameters(), lr=0.01)\n",
        "\n",
        "# как мы его можем использовать:\n",
        "loss.backward()   # вычисляет новые градиенты\n",
        "opt.step()        # изменяет веса\n",
        "opt.zero_grad()   # очищает градиенты"
      ],
      "metadata": {
        "colab": {
          "base_uri": "https://localhost:8080/",
          "height": 501
        },
        "id": "M0SYZLjKn5R4",
        "outputId": "9813566f-9171-46bb-c4b6-c3e502943e05"
      },
      "execution_count": null,
      "outputs": [
        {
          "output_type": "error",
          "ename": "RuntimeError",
          "evalue": "ignored",
          "traceback": [
            "\u001b[0;31m---------------------------------------------------------------------------\u001b[0m",
            "\u001b[0;31mRuntimeError\u001b[0m                              Traceback (most recent call last)",
            "\u001b[0;32m<ipython-input-95-aab6a21d7f2a>\u001b[0m in \u001b[0;36m<module>\u001b[0;34m\u001b[0m\n\u001b[1;32m      3\u001b[0m \u001b[0;34m\u001b[0m\u001b[0m\n\u001b[1;32m      4\u001b[0m \u001b[0;31m# как мы его можем использовать:\u001b[0m\u001b[0;34m\u001b[0m\u001b[0;34m\u001b[0m\u001b[0;34m\u001b[0m\u001b[0m\n\u001b[0;32m----> 5\u001b[0;31m \u001b[0mloss\u001b[0m\u001b[0;34m.\u001b[0m\u001b[0mbackward\u001b[0m\u001b[0;34m(\u001b[0m\u001b[0;34m)\u001b[0m   \u001b[0;31m# вычисляет новые градиенты\u001b[0m\u001b[0;34m\u001b[0m\u001b[0;34m\u001b[0m\u001b[0m\n\u001b[0m\u001b[1;32m      6\u001b[0m \u001b[0mopt\u001b[0m\u001b[0;34m.\u001b[0m\u001b[0mstep\u001b[0m\u001b[0;34m(\u001b[0m\u001b[0;34m)\u001b[0m        \u001b[0;31m# изменяет веса\u001b[0m\u001b[0;34m\u001b[0m\u001b[0;34m\u001b[0m\u001b[0m\n\u001b[1;32m      7\u001b[0m \u001b[0mopt\u001b[0m\u001b[0;34m.\u001b[0m\u001b[0mzero_grad\u001b[0m\u001b[0;34m(\u001b[0m\u001b[0;34m)\u001b[0m   \u001b[0;31m# очищает градиенты\u001b[0m\u001b[0;34m\u001b[0m\u001b[0;34m\u001b[0m\u001b[0m\n",
            "\u001b[0;32m/usr/local/lib/python3.7/dist-packages/torch/_tensor.py\u001b[0m in \u001b[0;36mbackward\u001b[0;34m(self, gradient, retain_graph, create_graph, inputs)\u001b[0m\n\u001b[1;32m    394\u001b[0m                 \u001b[0mcreate_graph\u001b[0m\u001b[0;34m=\u001b[0m\u001b[0mcreate_graph\u001b[0m\u001b[0;34m,\u001b[0m\u001b[0;34m\u001b[0m\u001b[0;34m\u001b[0m\u001b[0m\n\u001b[1;32m    395\u001b[0m                 inputs=inputs)\n\u001b[0;32m--> 396\u001b[0;31m         \u001b[0mtorch\u001b[0m\u001b[0;34m.\u001b[0m\u001b[0mautograd\u001b[0m\u001b[0;34m.\u001b[0m\u001b[0mbackward\u001b[0m\u001b[0;34m(\u001b[0m\u001b[0mself\u001b[0m\u001b[0;34m,\u001b[0m \u001b[0mgradient\u001b[0m\u001b[0;34m,\u001b[0m \u001b[0mretain_graph\u001b[0m\u001b[0;34m,\u001b[0m \u001b[0mcreate_graph\u001b[0m\u001b[0;34m,\u001b[0m \u001b[0minputs\u001b[0m\u001b[0;34m=\u001b[0m\u001b[0minputs\u001b[0m\u001b[0;34m)\u001b[0m\u001b[0;34m\u001b[0m\u001b[0;34m\u001b[0m\u001b[0m\n\u001b[0m\u001b[1;32m    397\u001b[0m \u001b[0;34m\u001b[0m\u001b[0m\n\u001b[1;32m    398\u001b[0m     \u001b[0;32mdef\u001b[0m \u001b[0mregister_hook\u001b[0m\u001b[0;34m(\u001b[0m\u001b[0mself\u001b[0m\u001b[0;34m,\u001b[0m \u001b[0mhook\u001b[0m\u001b[0;34m)\u001b[0m\u001b[0;34m:\u001b[0m\u001b[0;34m\u001b[0m\u001b[0;34m\u001b[0m\u001b[0m\n",
            "\u001b[0;32m/usr/local/lib/python3.7/dist-packages/torch/autograd/__init__.py\u001b[0m in \u001b[0;36mbackward\u001b[0;34m(tensors, grad_tensors, retain_graph, create_graph, grad_variables, inputs)\u001b[0m\n\u001b[1;32m    173\u001b[0m     Variable._execution_engine.run_backward(  # Calls into the C++ engine to run the backward pass\n\u001b[1;32m    174\u001b[0m         \u001b[0mtensors\u001b[0m\u001b[0;34m,\u001b[0m \u001b[0mgrad_tensors_\u001b[0m\u001b[0;34m,\u001b[0m \u001b[0mretain_graph\u001b[0m\u001b[0;34m,\u001b[0m \u001b[0mcreate_graph\u001b[0m\u001b[0;34m,\u001b[0m \u001b[0minputs\u001b[0m\u001b[0;34m,\u001b[0m\u001b[0;34m\u001b[0m\u001b[0;34m\u001b[0m\u001b[0m\n\u001b[0;32m--> 175\u001b[0;31m         allow_unreachable=True, accumulate_grad=True)  # Calls into the C++ engine to run the backward pass\n\u001b[0m\u001b[1;32m    176\u001b[0m \u001b[0;34m\u001b[0m\u001b[0m\n\u001b[1;32m    177\u001b[0m def grad(\n",
            "\u001b[0;31mRuntimeError\u001b[0m: Trying to backward through the graph a second time (or directly access saved tensors after they have already been freed). Saved intermediate values of the graph are freed when you call .backward() or autograd.grad(). Specify retain_graph=True if you need to backward through the graph a second time or if you need to access saved tensors after calling backward."
          ]
        }
      ]
    },
    {
      "cell_type": "code",
      "source": [
        "del x, y, y_predict, loss, y_pred"
      ],
      "metadata": {
        "id": "2lso9XYco5S9"
      },
      "execution_count": null,
      "outputs": []
    },
    {
      "cell_type": "markdown",
      "source": [
        "## Соединяем всё вместе"
      ],
      "metadata": {
        "id": "gQTLamkOpAtC"
      }
    },
    {
      "cell_type": "code",
      "source": [
        "model = nn.Sequential()\n",
        "model.add_module('first', nn.Linear(784, 1))\n",
        "model.add_module('second', nn.Sigmoid())\n",
        "\n",
        "opt = torch.optim.Adam(model.parameters(), lr=1e-3)"
      ],
      "metadata": {
        "id": "HXxxSUfGo_SH"
      },
      "execution_count": null,
      "outputs": []
    },
    {
      "cell_type": "code",
      "source": [
        "history = []\n",
        "\n",
        "for i in range(100):\n",
        "\n",
        "  ix = np.random.randint(0, len(X_train), 256)\n",
        "  x_batch = torch.tensor(X_train[ix], dtype=torch.float32)\n",
        "  y_batch = torch.tensor(y_train[ix], dtype=torch.float32)\n",
        "\n",
        "  y_pred = model(x_batch)[:, 0]\n",
        "\n",
        "  loss = torch.mean(F.binary_cross_entropy(y_pred, y_batch, reduction='none'), dim=0, keepdims=True)\n",
        "\n",
        "  loss.backward()\n",
        "  \n",
        "  opt.step()\n",
        "\n",
        "  opt.zero_grad()\n",
        "\n",
        "  history.append(loss.data.numpy())\n",
        "\n",
        "  if i % 10 == 0:\n",
        "        print(\"step #%i | mean loss = %.3f\" % (i, np.mean(history[-10:])))"
      ],
      "metadata": {
        "colab": {
          "base_uri": "https://localhost:8080/"
        },
        "id": "473XIqXvpZix",
        "outputId": "ae4144d6-0868-458f-fdbb-891459b9f2b2"
      },
      "execution_count": null,
      "outputs": [
        {
          "output_type": "stream",
          "name": "stdout",
          "text": [
            "step #0 | mean loss = 0.043\n",
            "step #10 | mean loss = 0.046\n",
            "step #20 | mean loss = 0.057\n",
            "step #30 | mean loss = 0.056\n",
            "step #40 | mean loss = 0.054\n",
            "step #50 | mean loss = 0.047\n",
            "step #60 | mean loss = 0.042\n",
            "step #70 | mean loss = 0.041\n",
            "step #80 | mean loss = 0.054\n",
            "step #90 | mean loss = 0.047\n"
          ]
        }
      ]
    },
    {
      "cell_type": "markdown",
      "source": [
        "Теперь посмотрим как выглядят тестовые данные"
      ],
      "metadata": {
        "id": "FIqcRRhbsc8M"
      }
    },
    {
      "cell_type": "code",
      "source": [
        "x_test = torch.tensor(X_test, dtype=torch.float32)\n",
        "predict_y_test = model(x_test)[:, 0]\n",
        "predict_y_test = np.array(predict_y_test > 0.5)\n",
        "\n",
        "accuracy = np.mean(predict_y_test == y_test)\n",
        "\n",
        "print(\"Test accuracy: %.5f\" % accuracy)\n",
        "assert accuracy > 0.95, \"try training longer\"\n",
        "\n",
        "print('Great job!')"
      ],
      "metadata": {
        "colab": {
          "base_uri": "https://localhost:8080/"
        },
        "id": "ABgCHZsesX2t",
        "outputId": "5f93ff64-7b50-48dd-b54f-5aedbf165bf1"
      },
      "execution_count": null,
      "outputs": [
        {
          "output_type": "stream",
          "name": "stdout",
          "text": [
            "Test accuracy: 0.97118\n",
            "Great job!\n"
          ]
        }
      ]
    }
  ]
}